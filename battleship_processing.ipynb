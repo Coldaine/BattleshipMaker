{
 "cells": [
  {
   "cell_type": "markdown",
   "id": "20509f84",
   "metadata": {},
   "source": [
    "# Battleship 2D to 3D Conversion: Experimentation Notebook"
   ]
  },
  {
   "cell_type": "markdown",
   "id": "ff4511d9",
   "metadata": {},
   "source": [
    "## Phase 1: Image Loading and Splitting"
   ]
  },
  {
   "cell_type": "code",
   "execution_count": null,
   "id": "aeda8e26",
   "metadata": {},
   "outputs": [],
   "source": [
    "import os\n",
    "import sys\n",
    "# Add src directory to Python path to import custom modules\n",
    "# Adjust the path if your notebook is in a subdirectory like 'notebooks/'\n",
    "module_path = os.path.abspath(os.path.join('.')) # Assumes notebook is in the project root\n",
    "if module_path not in sys.path:\n",
    "    sys.path.append(module_path)\n",
    "\n",
    "from PIL import Image\n",
    "import matplotlib.pyplot as plt\n",
    "\n",
    "from src.image_processing.loader import load_image_pil\n",
    "from src.image_processing.splitter import split_image_if_needed\n",
    "from src import config\n",
    "\n",
    "# Ensure output directories for notebook testing exist if different from main script\n",
    "# For example, if you want notebook outputs in a separate place:\n",
    "# notebook_output_dir = os.path.join(module_path, 'output_notebook') \n",
    "# if not os.path.exists(notebook_output_dir): os.makedirs(notebook_output_dir)\n",
    "# config.OUTPUT_DIR = notebook_output_dir \n",
    "\n",
    "print(f\"Using project root: {module_path}\")\n",
    "print(f\"Image output directory configured to: {os.path.abspath(config.OUTPUT_DIR)}\")"
   ]
  },
  {
   "cell_type": "code",
   "execution_count": null,
   "id": "8e249f9f",
   "metadata": {},
   "outputs": [],
   "source": [
    "# Test Image Loading and Splitting\n",
    "# Update this path to an image in your 'Sample pictures' directory\n",
    "# Example: 'Sample pictures/your_image_name.jpg'\n",
    "image_filename = 'north-carolina-class-battleship-recognition-drawings-b133c9-640.jpg'\n",
    "# image_filename = 'battleship-of-the-first-world-war-and-world-war-ii-combat-naval-artillery-ship-military-ship-with-guns-side-view-and-top-view-line-art-flat-illustration-vector.jpg'\n",
    "test_image_path = os.path.join(module_path, 'Sample pictures', image_filename) \n",
    "\n",
    "print(f\"Loading image: {test_image_path}\")\n",
    "assert os.path.exists(test_image_path), f\"Test image not found at {test_image_path}\"\n",
    "\n",
    "img = load_image_pil(test_image_path)\n",
    "\n",
    "if img:\n",
    "    plt.figure(figsize=(12, 6))\n",
    "    plt.imshow(img)\n",
    "    plt.title(f\"Original Image: {image_filename}\")\n",
    "    plt.axis('off')\n",
    "    plt.show()\n",
    "\n",
    "    split_images = split_image_if_needed(img) # Pass the PIL image object\n",
    "    print(f\"Image was split into {len(split_images)} part(s).\")\n",
    "\n",
    "    for i, view_img in enumerate(split_images):\n",
    "        plt.figure(figsize=(12, 6))\n",
    "        plt.imshow(view_img)\n",
    "        plt.title(f\"View {i+1} from {image_filename}\")\n",
    "        plt.axis('off')\n",
    "        plt.show()\n",
    "else:\n",
    "    print(f\"Failed to load image: {test_image_path}\")"
   ]
  },
  {
   "cell_type": "markdown",
   "id": "a3fc9fc3",
   "metadata": {},
   "source": [
    "## Phase 2: Gemini API Integration (Placeholder for Notebook Testing)"
   ]
  },
  {
   "cell_type": "code",
   "execution_count": null,
   "id": "e2225766",
   "metadata": {},
   "outputs": [],
   "source": [
    "# Future tests for Gemini API interaction will go here.\n",
    "# For example, loading an image, preparing data, and calling a mock/real Gemini client function."
   ]
  }
 ],
 "metadata": {
  "kernelspec": {
   "display_name": "Python 3 (ipykernel)",
   "language": "python",
   "name": "python3"
  },
  "language_info": {
   "codemirror_mode": {
    "name": "ipython",
    "version": 3
   },
   "file_extension": ".py",
   "mimetype": "text/x-python",
   "name": "python",
   "nbconvert_exporter": "python",
   "pygments_lexer": "ipython3",
   "version": "3.12.7"
  }
 },
 "nbformat": 4,
 "nbformat_minor": 5
}
