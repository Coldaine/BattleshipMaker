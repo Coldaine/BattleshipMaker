





import os
import sys
# Add src directory to Python path to import custom modules
# Adjust the path if your notebook is in a subdirectory like 'notebooks/'
module_path = os.path.abspath(os.path.join('.')) # Assumes notebook is in the project root
if module_path not in sys.path:
    sys.path.append(module_path)

from PIL import Image
import matplotlib.pyplot as plt

from src.image_processing.loader import load_image_pil
from src.image_processing.splitter import split_image_if_needed
from src import config

# Ensure output directories for notebook testing exist if different from main script
# For example, if you want notebook outputs in a separate place:
# notebook_output_dir = os.path.join(module_path, 'output_notebook') 
# if not os.path.exists(notebook_output_dir): os.makedirs(notebook_output_dir)
# config.OUTPUT_DIR = notebook_output_dir 

print(f"Using project root: {module_path}")
print(f"Image output directory configured to: {os.path.abspath(config.OUTPUT_DIR)}")


# Test Image Loading and Splitting
# Update this path to an image in your 'Sample pictures' directory
# Example: 'Sample pictures/your_image_name.jpg'
image_filename = 'north-carolina-class-battleship-recognition-drawings-b133c9-640.jpg'
# image_filename = 'battleship-of-the-first-world-war-and-world-war-ii-combat-naval-artillery-ship-military-ship-with-guns-side-view-and-top-view-line-art-flat-illustration-vector.jpg'
test_image_path = os.path.join(module_path, 'Sample pictures', image_filename) 

print(f"Loading image: {test_image_path}")
assert os.path.exists(test_image_path), f"Test image not found at {test_image_path}"

img = load_image_pil(test_image_path)

if img:
    plt.figure(figsize=(12, 6))
    plt.imshow(img)
    plt.title(f"Original Image: {image_filename}")
    plt.axis('off')
    plt.show()

    split_images = split_image_if_needed(img) # Pass the PIL image object
    print(f"Image was split into {len(split_images)} part(s).")

    for i, view_img in enumerate(split_images):
        plt.figure(figsize=(12, 6))
        plt.imshow(view_img)
        plt.title(f"View {i+1} from {image_filename}")
        plt.axis('off')
        plt.show()
else:
    print(f"Failed to load image: {test_image_path}")





# Future tests for Gemini API interaction will go here.
# For example, loading an image, preparing data, and calling a mock/real Gemini client function.
